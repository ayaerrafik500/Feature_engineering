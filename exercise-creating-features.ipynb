{
 "cells": [
  {
   "cell_type": "markdown",
   "id": "7b218a56",
   "metadata": {
    "papermill": {
     "duration": 0.008592,
     "end_time": "2023-06-30T18:22:05.601879",
     "exception": false,
     "start_time": "2023-06-30T18:22:05.593287",
     "status": "completed"
    },
    "tags": []
   },
   "source": [
    "**This notebook is an exercise in the [Feature Engineering](https://www.kaggle.com/learn/feature-engineering) course.  You can reference the tutorial at [this link](https://www.kaggle.com/ryanholbrook/creating-features).**\n",
    "\n",
    "---\n"
   ]
  },
  {
   "cell_type": "markdown",
   "id": "bba5c7c4",
   "metadata": {
    "papermill": {
     "duration": 0.00716,
     "end_time": "2023-06-30T18:22:05.616924",
     "exception": false,
     "start_time": "2023-06-30T18:22:05.609764",
     "status": "completed"
    },
    "tags": []
   },
   "source": [
    "# Introduction #\n",
    "\n",
    "In this exercise you'll start developing the features you identified in Exercise 2 as having the most potential. As you work through this exercise, you might take a moment to look at the data documentation again and consider whether the features we're creating make sense from a real-world perspective, and whether there are any useful combinations that stand out to you.\n",
    "\n",
    "Run this cell to set everything up!"
   ]
  },
  {
   "cell_type": "code",
   "execution_count": 1,
   "id": "e04cd266",
   "metadata": {
    "execution": {
     "iopub.execute_input": "2023-06-30T18:22:05.635858Z",
     "iopub.status.busy": "2023-06-30T18:22:05.634979Z",
     "iopub.status.idle": "2023-06-30T18:22:07.742276Z",
     "shell.execute_reply": "2023-06-30T18:22:07.741262Z"
    },
    "papermill": {
     "duration": 2.120251,
     "end_time": "2023-06-30T18:22:07.745500",
     "exception": false,
     "start_time": "2023-06-30T18:22:05.625249",
     "status": "completed"
    },
    "tags": []
   },
   "outputs": [],
   "source": [
    "# Setup feedback system\n",
    "from learntools.core import binder\n",
    "binder.bind(globals())\n",
    "from learntools.feature_engineering_new.ex3 import *\n",
    "\n",
    "import numpy as np\n",
    "import pandas as pd\n",
    "from sklearn.model_selection import cross_val_score\n",
    "from xgboost import XGBRegressor\n",
    "\n",
    "\n",
    "def score_dataset(X, y, model=XGBRegressor()):\n",
    "    # Label encoding for categoricals\n",
    "    for colname in X.select_dtypes([\"category\", \"object\"]):\n",
    "        X[colname], _ = X[colname].factorize()\n",
    "    # Metric for Housing competition is RMSLE (Root Mean Squared Log Error)\n",
    "    score = cross_val_score(\n",
    "        model, X, y, cv=5, scoring=\"neg_mean_squared_log_error\",\n",
    "    )\n",
    "    score = -1 * score.mean()\n",
    "    score = np.sqrt(score)\n",
    "    return score\n",
    "\n",
    "\n",
    "# Prepare data\n",
    "df = pd.read_csv(\"../input/fe-course-data/ames.csv\")\n",
    "X = df.copy()\n",
    "y = X.pop(\"SalePrice\")"
   ]
  },
  {
   "cell_type": "markdown",
   "id": "eeafe65a",
   "metadata": {
    "papermill": {
     "duration": 0.007007,
     "end_time": "2023-06-30T18:22:07.759992",
     "exception": false,
     "start_time": "2023-06-30T18:22:07.752985",
     "status": "completed"
    },
    "tags": []
   },
   "source": [
    "-------------------------------------------------------------------------------\n",
    "\n",
    "Let's start with a few mathematical combinations. We'll focus on features describing areas -- having the same units (square-feet) makes it easy to combine them in sensible ways. Since we're using XGBoost (a tree-based model), we'll focus on ratios and sums.\n",
    "\n",
    "# 1) Create Mathematical Transforms\n",
    "\n",
    "Create the following features:\n",
    "\n",
    "- `LivLotRatio`: the ratio of `GrLivArea` to `LotArea`\n",
    "- `Spaciousness`: the sum of `FirstFlrSF` and `SecondFlrSF` divided by `TotRmsAbvGrd`\n",
    "- `TotalOutsideSF`: the sum of `WoodDeckSF`, `OpenPorchSF`, `EnclosedPorch`, `Threeseasonporch`, and `ScreenPorch`"
   ]
  },
  {
   "cell_type": "code",
   "execution_count": 2,
   "id": "5e8d39fe",
   "metadata": {
    "execution": {
     "iopub.execute_input": "2023-06-30T18:22:07.777222Z",
     "iopub.status.busy": "2023-06-30T18:22:07.776266Z",
     "iopub.status.idle": "2023-06-30T18:22:07.808922Z",
     "shell.execute_reply": "2023-06-30T18:22:07.807669Z"
    },
    "lines_to_next_cell": 0,
    "papermill": {
     "duration": 0.045457,
     "end_time": "2023-06-30T18:22:07.812715",
     "exception": false,
     "start_time": "2023-06-30T18:22:07.767258",
     "status": "completed"
    },
    "tags": []
   },
   "outputs": [
    {
     "data": {
      "application/javascript": [
       "parent.postMessage({\"jupyterEvent\": \"custom.exercise_interaction\", \"data\": {\"outcomeType\": 1, \"valueTowardsCompletion\": 0.2, \"interactionType\": 1, \"questionType\": 2, \"questionId\": \"1_Q1\", \"learnToolsVersion\": \"0.3.4\", \"failureMessage\": \"\", \"exceptionClass\": \"\", \"trace\": \"\"}}, \"*\")"
      ],
      "text/plain": [
       "<IPython.core.display.Javascript object>"
      ]
     },
     "metadata": {},
     "output_type": "display_data"
    },
    {
     "data": {
      "text/markdown": [
       "<span style=\"color:#33cc33\">Correct</span>"
      ],
      "text/plain": [
       "Correct"
      ]
     },
     "metadata": {},
     "output_type": "display_data"
    }
   ],
   "source": [
    "# YOUR CODE HERE\n",
    "X_1 = pd.DataFrame()  # dataframe to hold new features\n",
    "\n",
    "X_1[\"LivLotRatio\"] = X['GrLivArea'] / X['LotArea']\n",
    "X_1[\"Spaciousness\"] = (X['FirstFlrSF'] + X['SecondFlrSF']) / X['TotRmsAbvGrd']\n",
    "X_1[\"TotalOutsideSF\"] = X[['WoodDeckSF', 'OpenPorchSF', 'EnclosedPorch','Threeseasonporch', 'ScreenPorch']].sum(axis=1)\n",
    "\n",
    "# Check your answer\n",
    "q_1.check()"
   ]
  },
  {
   "cell_type": "code",
   "execution_count": 3,
   "id": "6721b92d",
   "metadata": {
    "execution": {
     "iopub.execute_input": "2023-06-30T18:22:07.832776Z",
     "iopub.status.busy": "2023-06-30T18:22:07.832257Z",
     "iopub.status.idle": "2023-06-30T18:22:07.837021Z",
     "shell.execute_reply": "2023-06-30T18:22:07.835960Z"
    },
    "lines_to_next_cell": 0,
    "papermill": {
     "duration": 0.016751,
     "end_time": "2023-06-30T18:22:07.839275",
     "exception": false,
     "start_time": "2023-06-30T18:22:07.822524",
     "status": "completed"
    },
    "tags": []
   },
   "outputs": [],
   "source": [
    "# Lines below will give you a hint or solution code\n",
    "#q_1.hint()\n",
    "#q_1.solution()"
   ]
  },
  {
   "cell_type": "markdown",
   "id": "676be780",
   "metadata": {
    "papermill": {
     "duration": 0.007622,
     "end_time": "2023-06-30T18:22:07.854875",
     "exception": false,
     "start_time": "2023-06-30T18:22:07.847253",
     "status": "completed"
    },
    "tags": []
   },
   "source": [
    "-------------------------------------------------------------------------------\n",
    "\n",
    "If you've discovered an interaction effect between a numeric feature and a categorical feature, you might want to model it explicitly using a one-hot encoding, like so:\n",
    "\n",
    "```\n",
    "# One-hot encode Categorical feature, adding a column prefix \"Cat\"\n",
    "X_new = pd.get_dummies(df.Categorical, prefix=\"Cat\")\n",
    "\n",
    "# Multiply row-by-row\n",
    "X_new = X_new.mul(df.Continuous, axis=0)\n",
    "\n",
    "# Join the new features to the feature set\n",
    "X = X.join(X_new)\n",
    "```\n",
    "\n",
    "# 2) Interaction with a Categorical\n",
    "\n",
    "We discovered an interaction between `BldgType` and `GrLivArea` in Exercise 2. Now create their interaction features."
   ]
  },
  {
   "cell_type": "code",
   "execution_count": 4,
   "id": "2b22028a",
   "metadata": {
    "execution": {
     "iopub.execute_input": "2023-06-30T18:22:07.873043Z",
     "iopub.status.busy": "2023-06-30T18:22:07.872128Z",
     "iopub.status.idle": "2023-06-30T18:22:07.890037Z",
     "shell.execute_reply": "2023-06-30T18:22:07.889153Z"
    },
    "lines_to_next_cell": 0,
    "papermill": {
     "duration": 0.029641,
     "end_time": "2023-06-30T18:22:07.892308",
     "exception": false,
     "start_time": "2023-06-30T18:22:07.862667",
     "status": "completed"
    },
    "tags": []
   },
   "outputs": [
    {
     "data": {
      "application/javascript": [
       "parent.postMessage({\"jupyterEvent\": \"custom.exercise_interaction\", \"data\": {\"outcomeType\": 1, \"valueTowardsCompletion\": 0.2, \"interactionType\": 1, \"questionType\": 2, \"questionId\": \"2_Q2\", \"learnToolsVersion\": \"0.3.4\", \"failureMessage\": \"\", \"exceptionClass\": \"\", \"trace\": \"\"}}, \"*\")"
      ],
      "text/plain": [
       "<IPython.core.display.Javascript object>"
      ]
     },
     "metadata": {},
     "output_type": "display_data"
    },
    {
     "data": {
      "text/markdown": [
       "<span style=\"color:#33cc33\">Correct</span>"
      ],
      "text/plain": [
       "Correct"
      ]
     },
     "metadata": {},
     "output_type": "display_data"
    }
   ],
   "source": [
    "# YOUR CODE HERE\n",
    "# One-hot encode BldgType. Use `prefix=\"Bldg\"` in `get_dummies`\n",
    "X_2 = pd.get_dummies(X['BldgType'], prefix='Bldg') \n",
    "# Multiply\n",
    "X_2 = X_2.mul(X['GrLivArea'], axis=0)\n",
    "\n",
    "\n",
    "# Check your answer\n",
    "q_2.check()"
   ]
  },
  {
   "cell_type": "code",
   "execution_count": 5,
   "id": "f0e4a148",
   "metadata": {
    "execution": {
     "iopub.execute_input": "2023-06-30T18:22:07.911732Z",
     "iopub.status.busy": "2023-06-30T18:22:07.910720Z",
     "iopub.status.idle": "2023-06-30T18:22:07.916196Z",
     "shell.execute_reply": "2023-06-30T18:22:07.914803Z"
    },
    "lines_to_next_cell": 0,
    "papermill": {
     "duration": 0.018478,
     "end_time": "2023-06-30T18:22:07.919052",
     "exception": false,
     "start_time": "2023-06-30T18:22:07.900574",
     "status": "completed"
    },
    "tags": []
   },
   "outputs": [],
   "source": [
    "# Lines below will give you a hint or solution code\n",
    "#q_2.hint()\n",
    "#q_2.solution()"
   ]
  },
  {
   "cell_type": "markdown",
   "id": "663bc498",
   "metadata": {
    "lines_to_next_cell": 0,
    "papermill": {
     "duration": 0.007859,
     "end_time": "2023-06-30T18:22:07.935240",
     "exception": false,
     "start_time": "2023-06-30T18:22:07.927381",
     "status": "completed"
    },
    "tags": []
   },
   "source": [
    "# 3) Count Feature\n",
    "\n",
    "Let's try creating a feature that describes how many kinds of outdoor areas a dwelling has. Create a feature `PorchTypes` that counts how many of the following are greater than 0.0:\n",
    "\n",
    "```\n",
    "WoodDeckSF\n",
    "OpenPorchSF\n",
    "EnclosedPorch\n",
    "Threeseasonporch\n",
    "ScreenPorch\n",
    "```"
   ]
  },
  {
   "cell_type": "code",
   "execution_count": 6,
   "id": "1d8d7d87",
   "metadata": {
    "execution": {
     "iopub.execute_input": "2023-06-30T18:22:07.953629Z",
     "iopub.status.busy": "2023-06-30T18:22:07.953124Z",
     "iopub.status.idle": "2023-06-30T18:22:07.973830Z",
     "shell.execute_reply": "2023-06-30T18:22:07.972339Z"
    },
    "lines_to_next_cell": 0,
    "papermill": {
     "duration": 0.033074,
     "end_time": "2023-06-30T18:22:07.976439",
     "exception": false,
     "start_time": "2023-06-30T18:22:07.943365",
     "status": "completed"
    },
    "tags": []
   },
   "outputs": [
    {
     "data": {
      "application/javascript": [
       "parent.postMessage({\"jupyterEvent\": \"custom.exercise_interaction\", \"data\": {\"outcomeType\": 1, \"valueTowardsCompletion\": 0.2, \"interactionType\": 1, \"questionType\": 2, \"questionId\": \"3_Q3\", \"learnToolsVersion\": \"0.3.4\", \"failureMessage\": \"\", \"exceptionClass\": \"\", \"trace\": \"\"}}, \"*\")"
      ],
      "text/plain": [
       "<IPython.core.display.Javascript object>"
      ]
     },
     "metadata": {},
     "output_type": "display_data"
    },
    {
     "data": {
      "text/markdown": [
       "<span style=\"color:#33cc33\">Correct</span>"
      ],
      "text/plain": [
       "Correct"
      ]
     },
     "metadata": {},
     "output_type": "display_data"
    }
   ],
   "source": [
    "X_3 = pd.DataFrame()\n",
    "\n",
    "# YOUR CODE HERE\n",
    "X_3[\"PorchTypes\"] = X[['WoodDeckSF', 'OpenPorchSF', 'EnclosedPorch',\n",
    "                       'Threeseasonporch', 'ScreenPorch']].gt(0).sum(axis=1)\n",
    "\n",
    "\n",
    "# Check your answer\n",
    "q_3.check()"
   ]
  },
  {
   "cell_type": "code",
   "execution_count": 7,
   "id": "286e514b",
   "metadata": {
    "execution": {
     "iopub.execute_input": "2023-06-30T18:22:07.995791Z",
     "iopub.status.busy": "2023-06-30T18:22:07.995274Z",
     "iopub.status.idle": "2023-06-30T18:22:08.000882Z",
     "shell.execute_reply": "2023-06-30T18:22:07.999547Z"
    },
    "lines_to_next_cell": 0,
    "papermill": {
     "duration": 0.018205,
     "end_time": "2023-06-30T18:22:08.003283",
     "exception": false,
     "start_time": "2023-06-30T18:22:07.985078",
     "status": "completed"
    },
    "tags": []
   },
   "outputs": [],
   "source": [
    "# Lines below will give you a hint or solution code\n",
    "#q_3.hint()\n",
    "#q_3.solution()"
   ]
  },
  {
   "cell_type": "markdown",
   "id": "265478e3",
   "metadata": {
    "papermill": {
     "duration": 0.008139,
     "end_time": "2023-06-30T18:22:08.020085",
     "exception": false,
     "start_time": "2023-06-30T18:22:08.011946",
     "status": "completed"
    },
    "tags": []
   },
   "source": [
    "# 4) Break Down a Categorical Feature\n",
    "\n",
    "`MSSubClass` describes the type of a dwelling:"
   ]
  },
  {
   "cell_type": "code",
   "execution_count": 8,
   "id": "bb027709",
   "metadata": {
    "execution": {
     "iopub.execute_input": "2023-06-30T18:22:08.039972Z",
     "iopub.status.busy": "2023-06-30T18:22:08.039030Z",
     "iopub.status.idle": "2023-06-30T18:22:08.048626Z",
     "shell.execute_reply": "2023-06-30T18:22:08.047679Z"
    },
    "papermill": {
     "duration": 0.022606,
     "end_time": "2023-06-30T18:22:08.051140",
     "exception": false,
     "start_time": "2023-06-30T18:22:08.028534",
     "status": "completed"
    },
    "tags": []
   },
   "outputs": [
    {
     "data": {
      "text/plain": [
       "array(['One_Story_1946_and_Newer_All_Styles', 'Two_Story_1946_and_Newer',\n",
       "       'One_Story_PUD_1946_and_Newer',\n",
       "       'One_and_Half_Story_Finished_All_Ages', 'Split_Foyer',\n",
       "       'Two_Story_PUD_1946_and_Newer', 'Split_or_Multilevel',\n",
       "       'One_Story_1945_and_Older', 'Duplex_All_Styles_and_Ages',\n",
       "       'Two_Family_conversion_All_Styles_and_Ages',\n",
       "       'One_and_Half_Story_Unfinished_All_Ages',\n",
       "       'Two_Story_1945_and_Older', 'Two_and_Half_Story_All_Ages',\n",
       "       'One_Story_with_Finished_Attic_All_Ages',\n",
       "       'PUD_Multilevel_Split_Level_Foyer',\n",
       "       'One_and_Half_Story_PUD_All_Ages'], dtype=object)"
      ]
     },
     "execution_count": 8,
     "metadata": {},
     "output_type": "execute_result"
    }
   ],
   "source": [
    "df.MSSubClass.unique()"
   ]
  },
  {
   "cell_type": "markdown",
   "id": "9ae6ef30",
   "metadata": {
    "papermill": {
     "duration": 0.008436,
     "end_time": "2023-06-30T18:22:08.068649",
     "exception": false,
     "start_time": "2023-06-30T18:22:08.060213",
     "status": "completed"
    },
    "tags": []
   },
   "source": [
    "You can see that there is a more general categorization described (roughly) by the first word of each category. Create a feature containing only these first words by splitting `MSSubClass` at the first underscore `_`. (Hint: In the `split` method use an argument `n=1`.)"
   ]
  },
  {
   "cell_type": "code",
   "execution_count": 9,
   "id": "f6e7290f",
   "metadata": {
    "execution": {
     "iopub.execute_input": "2023-06-30T18:22:08.089723Z",
     "iopub.status.busy": "2023-06-30T18:22:08.088778Z",
     "iopub.status.idle": "2023-06-30T18:22:08.121108Z",
     "shell.execute_reply": "2023-06-30T18:22:08.119888Z"
    },
    "lines_to_next_cell": 0,
    "papermill": {
     "duration": 0.045898,
     "end_time": "2023-06-30T18:22:08.123554",
     "exception": false,
     "start_time": "2023-06-30T18:22:08.077656",
     "status": "completed"
    },
    "tags": []
   },
   "outputs": [
    {
     "data": {
      "application/javascript": [
       "parent.postMessage({\"jupyterEvent\": \"custom.exercise_interaction\", \"data\": {\"outcomeType\": 1, \"valueTowardsCompletion\": 0.2, \"interactionType\": 1, \"questionType\": 2, \"questionId\": \"4_Q4\", \"learnToolsVersion\": \"0.3.4\", \"failureMessage\": \"\", \"exceptionClass\": \"\", \"trace\": \"\"}}, \"*\")"
      ],
      "text/plain": [
       "<IPython.core.display.Javascript object>"
      ]
     },
     "metadata": {},
     "output_type": "display_data"
    },
    {
     "data": {
      "text/markdown": [
       "<span style=\"color:#33cc33\">Correct</span>"
      ],
      "text/plain": [
       "Correct"
      ]
     },
     "metadata": {},
     "output_type": "display_data"
    }
   ],
   "source": [
    "X_4 = pd.DataFrame()\n",
    "\n",
    "# YOUR CODE HERE\n",
    "X_4['MSClass'] = X['MSSubClass'].str.split('_', n=1, expand=True)[0]\n",
    "\n",
    "\n",
    "# Check your answer\n",
    "q_4.check()"
   ]
  },
  {
   "cell_type": "code",
   "execution_count": 10,
   "id": "2f987fdd",
   "metadata": {
    "execution": {
     "iopub.execute_input": "2023-06-30T18:22:08.145004Z",
     "iopub.status.busy": "2023-06-30T18:22:08.144166Z",
     "iopub.status.idle": "2023-06-30T18:22:08.148768Z",
     "shell.execute_reply": "2023-06-30T18:22:08.147705Z"
    },
    "lines_to_next_cell": 0,
    "papermill": {
     "duration": 0.018236,
     "end_time": "2023-06-30T18:22:08.151383",
     "exception": false,
     "start_time": "2023-06-30T18:22:08.133147",
     "status": "completed"
    },
    "tags": []
   },
   "outputs": [],
   "source": [
    "# Lines below will give you a hint or solution code\n",
    "#q_4.hint()\n",
    "#q_4.solution()"
   ]
  },
  {
   "cell_type": "markdown",
   "id": "063f84b8",
   "metadata": {
    "papermill": {
     "duration": 0.00908,
     "end_time": "2023-06-30T18:22:08.170099",
     "exception": false,
     "start_time": "2023-06-30T18:22:08.161019",
     "status": "completed"
    },
    "tags": []
   },
   "source": [
    "# 5) Use a Grouped Transform\n",
    "\n",
    "The value of a home often depends on how it compares to typical homes in its neighborhood. Create a feature `MedNhbdArea` that describes the *median* of `GrLivArea` grouped on `Neighborhood`."
   ]
  },
  {
   "cell_type": "code",
   "execution_count": 11,
   "id": "b6f1b50c",
   "metadata": {
    "execution": {
     "iopub.execute_input": "2023-06-30T18:22:08.191653Z",
     "iopub.status.busy": "2023-06-30T18:22:08.190204Z",
     "iopub.status.idle": "2023-06-30T18:22:08.212409Z",
     "shell.execute_reply": "2023-06-30T18:22:08.211486Z"
    },
    "lines_to_next_cell": 0,
    "papermill": {
     "duration": 0.0354,
     "end_time": "2023-06-30T18:22:08.214711",
     "exception": false,
     "start_time": "2023-06-30T18:22:08.179311",
     "status": "completed"
    },
    "tags": []
   },
   "outputs": [
    {
     "data": {
      "application/javascript": [
       "parent.postMessage({\"jupyterEvent\": \"custom.exercise_interaction\", \"data\": {\"outcomeType\": 1, \"valueTowardsCompletion\": 0.2, \"interactionType\": 1, \"questionType\": 2, \"questionId\": \"5_Q5\", \"learnToolsVersion\": \"0.3.4\", \"failureMessage\": \"\", \"exceptionClass\": \"\", \"trace\": \"\"}}, \"*\")"
      ],
      "text/plain": [
       "<IPython.core.display.Javascript object>"
      ]
     },
     "metadata": {},
     "output_type": "display_data"
    },
    {
     "data": {
      "text/markdown": [
       "<span style=\"color:#33cc33\">Correct</span>"
      ],
      "text/plain": [
       "Correct"
      ]
     },
     "metadata": {},
     "output_type": "display_data"
    }
   ],
   "source": [
    "X_5 = pd.DataFrame()\n",
    "\n",
    "# YOUR CODE HERE\n",
    "X_5[\"MedNhbdArea\"] = X.groupby(['Neighborhood'])['GrLivArea'].transform('median')\n",
    "# Check your answer\n",
    "q_5.check()"
   ]
  },
  {
   "cell_type": "code",
   "execution_count": 12,
   "id": "b5161dae",
   "metadata": {
    "execution": {
     "iopub.execute_input": "2023-06-30T18:22:08.236295Z",
     "iopub.status.busy": "2023-06-30T18:22:08.235337Z",
     "iopub.status.idle": "2023-06-30T18:22:08.240288Z",
     "shell.execute_reply": "2023-06-30T18:22:08.239351Z"
    },
    "lines_to_next_cell": 0,
    "papermill": {
     "duration": 0.01875,
     "end_time": "2023-06-30T18:22:08.242786",
     "exception": false,
     "start_time": "2023-06-30T18:22:08.224036",
     "status": "completed"
    },
    "tags": []
   },
   "outputs": [],
   "source": [
    "# Lines below will give you a hint or solution code\n",
    "#q_5.hint()\n",
    "#q_5.solution()"
   ]
  },
  {
   "cell_type": "markdown",
   "id": "9b162bd5",
   "metadata": {
    "papermill": {
     "duration": 0.009134,
     "end_time": "2023-06-30T18:22:08.261824",
     "exception": false,
     "start_time": "2023-06-30T18:22:08.252690",
     "status": "completed"
    },
    "tags": []
   },
   "source": [
    "Now you've made your first new feature set! If you like, you can run the cell below to score the model with all of your new features added:"
   ]
  },
  {
   "cell_type": "code",
   "execution_count": 13,
   "id": "8d805bc6",
   "metadata": {
    "execution": {
     "iopub.execute_input": "2023-06-30T18:22:08.283881Z",
     "iopub.status.busy": "2023-06-30T18:22:08.282940Z",
     "iopub.status.idle": "2023-06-30T18:22:12.595980Z",
     "shell.execute_reply": "2023-06-30T18:22:12.594925Z"
    },
    "papermill": {
     "duration": 4.327687,
     "end_time": "2023-06-30T18:22:12.599230",
     "exception": false,
     "start_time": "2023-06-30T18:22:08.271543",
     "status": "completed"
    },
    "tags": []
   },
   "outputs": [
    {
     "data": {
      "text/plain": [
       "0.13865658070461215"
      ]
     },
     "execution_count": 13,
     "metadata": {},
     "output_type": "execute_result"
    }
   ],
   "source": [
    "X_new = X.join([X_1, X_2, X_3, X_4, X_5])\n",
    "score_dataset(X_new, y)"
   ]
  },
  {
   "cell_type": "markdown",
   "id": "ec151593",
   "metadata": {
    "papermill": {
     "duration": 0.009406,
     "end_time": "2023-06-30T18:22:12.619633",
     "exception": false,
     "start_time": "2023-06-30T18:22:12.610227",
     "status": "completed"
    },
    "tags": []
   },
   "source": [
    "# Keep Going #\n",
    "\n",
    "[**Untangle spatial relationships**](https://www.kaggle.com/ryanholbrook/clustering-with-k-means) by adding cluster labels to your dataset."
   ]
  },
  {
   "cell_type": "markdown",
   "id": "58c34da5",
   "metadata": {
    "papermill": {
     "duration": 0.009217,
     "end_time": "2023-06-30T18:22:12.638550",
     "exception": false,
     "start_time": "2023-06-30T18:22:12.629333",
     "status": "completed"
    },
    "tags": []
   },
   "source": [
    "---\n",
    "\n",
    "\n",
    "\n",
    "\n",
    "*Have questions or comments? Visit the [course discussion forum](https://www.kaggle.com/learn/feature-engineering/discussion) to chat with other learners.*"
   ]
  }
 ],
 "metadata": {
  "kernelspec": {
   "display_name": "Python 3",
   "language": "python",
   "name": "python3"
  },
  "language_info": {
   "codemirror_mode": {
    "name": "ipython",
    "version": 3
   },
   "file_extension": ".py",
   "mimetype": "text/x-python",
   "name": "python",
   "nbconvert_exporter": "python",
   "pygments_lexer": "ipython3",
   "version": "3.10.10"
  },
  "papermill": {
   "default_parameters": {},
   "duration": 24.472438,
   "end_time": "2023-06-30T18:22:14.175837",
   "environment_variables": {},
   "exception": null,
   "input_path": "__notebook__.ipynb",
   "output_path": "__notebook__.ipynb",
   "parameters": {},
   "start_time": "2023-06-30T18:21:49.703399",
   "version": "2.4.0"
  }
 },
 "nbformat": 4,
 "nbformat_minor": 5
}
