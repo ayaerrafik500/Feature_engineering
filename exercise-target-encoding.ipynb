{
 "cells": [
  {
   "cell_type": "markdown",
   "id": "d0872f98",
   "metadata": {
    "papermill": {
     "duration": 0.008287,
     "end_time": "2023-06-30T18:38:12.100433",
     "exception": false,
     "start_time": "2023-06-30T18:38:12.092146",
     "status": "completed"
    },
    "tags": []
   },
   "source": [
    "**This notebook is an exercise in the [Feature Engineering](https://www.kaggle.com/learn/feature-engineering) course.  You can reference the tutorial at [this link](https://www.kaggle.com/ryanholbrook/target-encoding).**\n",
    "\n",
    "---\n"
   ]
  },
  {
   "cell_type": "markdown",
   "id": "0afcbad9",
   "metadata": {
    "papermill": {
     "duration": 0.007609,
     "end_time": "2023-06-30T18:38:12.116155",
     "exception": false,
     "start_time": "2023-06-30T18:38:12.108546",
     "status": "completed"
    },
    "tags": []
   },
   "source": [
    "# Introduction #\n",
    "\n",
    "In this exercise, you'll apply target encoding to features in the [*Ames*](https://www.kaggle.com/c/house-prices-advanced-regression-techniques/data) dataset.\n",
    "\n",
    "Run this cell to set everything up!"
   ]
  },
  {
   "cell_type": "code",
   "execution_count": 1,
   "id": "5fbb0e84",
   "metadata": {
    "execution": {
     "iopub.execute_input": "2023-06-30T18:38:12.133597Z",
     "iopub.status.busy": "2023-06-30T18:38:12.133189Z",
     "iopub.status.idle": "2023-06-30T18:38:14.862633Z",
     "shell.execute_reply": "2023-06-30T18:38:14.861379Z"
    },
    "papermill": {
     "duration": 2.741319,
     "end_time": "2023-06-30T18:38:14.865320",
     "exception": false,
     "start_time": "2023-06-30T18:38:12.124001",
     "status": "completed"
    },
    "tags": []
   },
   "outputs": [
    {
     "name": "stderr",
     "output_type": "stream",
     "text": [
      "/tmp/ipykernel_20/3788892820.py:16: MatplotlibDeprecationWarning: The seaborn styles shipped by Matplotlib are deprecated since 3.6, as they no longer correspond to the styles shipped by seaborn. However, they will remain available as 'seaborn-v0_8-<style>'. Alternatively, directly use the seaborn API instead.\n",
      "  plt.style.use(\"seaborn-whitegrid\")\n"
     ]
    }
   ],
   "source": [
    "# Setup feedback system\n",
    "from learntools.core import binder\n",
    "binder.bind(globals())\n",
    "from learntools.feature_engineering_new.ex6 import *\n",
    "\n",
    "import matplotlib.pyplot as plt\n",
    "import numpy as np\n",
    "import pandas as pd\n",
    "import seaborn as sns\n",
    "import warnings\n",
    "from category_encoders import MEstimateEncoder\n",
    "from sklearn.model_selection import cross_val_score\n",
    "from xgboost import XGBRegressor\n",
    "\n",
    "# Set Matplotlib defaults\n",
    "plt.style.use(\"seaborn-whitegrid\")\n",
    "plt.rc(\"figure\", autolayout=True)\n",
    "plt.rc(\n",
    "    \"axes\",\n",
    "    labelweight=\"bold\",\n",
    "    labelsize=\"large\",\n",
    "    titleweight=\"bold\",\n",
    "    titlesize=14,\n",
    "    titlepad=10,\n",
    ")\n",
    "warnings.filterwarnings('ignore')\n",
    "\n",
    "\n",
    "def score_dataset(X, y, model=XGBRegressor()):\n",
    "    # Label encoding for categoricals\n",
    "    for colname in X.select_dtypes([\"category\", \"object\"]):\n",
    "        X[colname], _ = X[colname].factorize()\n",
    "    # Metric for Housing competition is RMSLE (Root Mean Squared Log Error)\n",
    "    score = cross_val_score(\n",
    "        model, X, y, cv=5, scoring=\"neg_mean_squared_log_error\",\n",
    "    )\n",
    "    score = -1 * score.mean()\n",
    "    score = np.sqrt(score)\n",
    "    return score\n",
    "\n",
    "\n",
    "df = pd.read_csv(\"../input/fe-course-data/ames.csv\")"
   ]
  },
  {
   "cell_type": "markdown",
   "id": "0af98033",
   "metadata": {
    "papermill": {
     "duration": 0.007712,
     "end_time": "2023-06-30T18:38:14.881220",
     "exception": false,
     "start_time": "2023-06-30T18:38:14.873508",
     "status": "completed"
    },
    "tags": []
   },
   "source": [
    "-------------------------------------------------------------------------------\n",
    "\n",
    "First you'll need to choose which features you want to apply a target encoding to. Categorical features with a large number of categories are often good candidates. Run this cell to see how many categories each categorical feature in the *Ames* dataset has."
   ]
  },
  {
   "cell_type": "code",
   "execution_count": 2,
   "id": "b91fb384",
   "metadata": {
    "execution": {
     "iopub.execute_input": "2023-06-30T18:38:14.900946Z",
     "iopub.status.busy": "2023-06-30T18:38:14.900339Z",
     "iopub.status.idle": "2023-06-30T18:38:14.936262Z",
     "shell.execute_reply": "2023-06-30T18:38:14.935069Z"
    },
    "papermill": {
     "duration": 0.049923,
     "end_time": "2023-06-30T18:38:14.939208",
     "exception": false,
     "start_time": "2023-06-30T18:38:14.889285",
     "status": "completed"
    },
    "tags": []
   },
   "outputs": [
    {
     "data": {
      "text/plain": [
       "MSSubClass       16\n",
       "MSZoning          7\n",
       "Street            2\n",
       "Alley             3\n",
       "LotShape          4\n",
       "LandContour       4\n",
       "Utilities         3\n",
       "LotConfig         5\n",
       "LandSlope         3\n",
       "Neighborhood     28\n",
       "Condition1        9\n",
       "Condition2        8\n",
       "BldgType          5\n",
       "HouseStyle        8\n",
       "OverallQual      10\n",
       "OverallCond       9\n",
       "RoofStyle         6\n",
       "RoofMatl          8\n",
       "Exterior1st      16\n",
       "Exterior2nd      17\n",
       "MasVnrType        5\n",
       "ExterQual         4\n",
       "ExterCond         5\n",
       "Foundation        6\n",
       "BsmtQual          6\n",
       "BsmtCond          6\n",
       "BsmtExposure      5\n",
       "BsmtFinType1      7\n",
       "BsmtFinType2      7\n",
       "Heating           6\n",
       "HeatingQC         5\n",
       "CentralAir        2\n",
       "Electrical        6\n",
       "KitchenQual       5\n",
       "Functional        8\n",
       "FireplaceQu       6\n",
       "GarageType        7\n",
       "GarageFinish      4\n",
       "GarageQual        6\n",
       "GarageCond        6\n",
       "PavedDrive        3\n",
       "PoolQC            5\n",
       "Fence             5\n",
       "MiscFeature       6\n",
       "SaleType         10\n",
       "SaleCondition     6\n",
       "dtype: int64"
      ]
     },
     "execution_count": 2,
     "metadata": {},
     "output_type": "execute_result"
    }
   ],
   "source": [
    "df.select_dtypes([\"object\"]).nunique()"
   ]
  },
  {
   "cell_type": "markdown",
   "id": "e76e3c43",
   "metadata": {
    "papermill": {
     "duration": 0.007916,
     "end_time": "2023-06-30T18:38:14.955451",
     "exception": false,
     "start_time": "2023-06-30T18:38:14.947535",
     "status": "completed"
    },
    "tags": []
   },
   "source": [
    "We talked about how the M-estimate encoding uses smoothing to improve estimates for rare categories. To see how many times a category occurs in the dataset, you can use the `value_counts` method. This cell shows the counts for `SaleType`, but you might want to consider others as well."
   ]
  },
  {
   "cell_type": "code",
   "execution_count": 3,
   "id": "790cca1e",
   "metadata": {
    "execution": {
     "iopub.execute_input": "2023-06-30T18:38:14.973728Z",
     "iopub.status.busy": "2023-06-30T18:38:14.973344Z",
     "iopub.status.idle": "2023-06-30T18:38:14.984357Z",
     "shell.execute_reply": "2023-06-30T18:38:14.983203Z"
    },
    "papermill": {
     "duration": 0.022932,
     "end_time": "2023-06-30T18:38:14.986698",
     "exception": false,
     "start_time": "2023-06-30T18:38:14.963766",
     "status": "completed"
    },
    "tags": []
   },
   "outputs": [
    {
     "data": {
      "text/plain": [
       "WD       2536\n",
       "New       239\n",
       "COD        87\n",
       "ConLD      26\n",
       "CWD        12\n",
       "ConLI       9\n",
       "ConLw       8\n",
       "Oth         7\n",
       "Con         5\n",
       "VWD         1\n",
       "Name: SaleType, dtype: int64"
      ]
     },
     "execution_count": 3,
     "metadata": {},
     "output_type": "execute_result"
    }
   ],
   "source": [
    "df[\"SaleType\"].value_counts()"
   ]
  },
  {
   "cell_type": "markdown",
   "id": "a2285d2e",
   "metadata": {
    "papermill": {
     "duration": 0.008637,
     "end_time": "2023-06-30T18:38:15.003724",
     "exception": false,
     "start_time": "2023-06-30T18:38:14.995087",
     "status": "completed"
    },
    "tags": []
   },
   "source": [
    "# 1) Choose Features for Encoding\n",
    "\n",
    "Which features did you identify for target encoding? After you've thought about your answer, run the next cell for some discussion."
   ]
  },
  {
   "cell_type": "code",
   "execution_count": 4,
   "id": "d8c028c2",
   "metadata": {
    "execution": {
     "iopub.execute_input": "2023-06-30T18:38:15.023803Z",
     "iopub.status.busy": "2023-06-30T18:38:15.023374Z",
     "iopub.status.idle": "2023-06-30T18:38:15.032303Z",
     "shell.execute_reply": "2023-06-30T18:38:15.031148Z"
    },
    "papermill": {
     "duration": 0.0214,
     "end_time": "2023-06-30T18:38:15.034631",
     "exception": false,
     "start_time": "2023-06-30T18:38:15.013231",
     "status": "completed"
    },
    "tags": []
   },
   "outputs": [
    {
     "data": {
      "application/javascript": [
       "parent.postMessage({\"jupyterEvent\": \"custom.exercise_interaction\", \"data\": {\"outcomeType\": 1, \"valueTowardsCompletion\": 0.3333333333333333, \"interactionType\": 1, \"questionType\": 4, \"questionId\": \"1_Q1\", \"learnToolsVersion\": \"0.3.4\", \"failureMessage\": \"\", \"exceptionClass\": \"\", \"trace\": \"\"}}, \"*\")"
      ],
      "text/plain": [
       "<IPython.core.display.Javascript object>"
      ]
     },
     "metadata": {},
     "output_type": "display_data"
    },
    {
     "data": {
      "text/markdown": [
       "<span style=\"color:#33cc33\">Correct:</span> \n",
       "\n",
       " The `Neighborhood` feature looks promising. It has the most categories of any feature, and several categories are rare. Others that could be worth considering are `SaleType`, `MSSubClass`, `Exterior1st`, `Exterior2nd`. In fact, almost any of the nominal features would be worth trying because of the prevalence of rare categories."
      ],
      "text/plain": [
       "Correct: \n",
       "\n",
       " The `Neighborhood` feature looks promising. It has the most categories of any feature, and several categories are rare. Others that could be worth considering are `SaleType`, `MSSubClass`, `Exterior1st`, `Exterior2nd`. In fact, almost any of the nominal features would be worth trying because of the prevalence of rare categories."
      ]
     },
     "metadata": {},
     "output_type": "display_data"
    }
   ],
   "source": [
    "# View the solution (Run this cell to receive credit!)\n",
    "q_1.check()"
   ]
  },
  {
   "cell_type": "markdown",
   "id": "7249d57a",
   "metadata": {
    "papermill": {
     "duration": 0.009336,
     "end_time": "2023-06-30T18:38:15.052955",
     "exception": false,
     "start_time": "2023-06-30T18:38:15.043619",
     "status": "completed"
    },
    "tags": []
   },
   "source": [
    "-------------------------------------------------------------------------------\n",
    "\n",
    "Now you'll apply a target encoding to your choice of feature. As we discussed in the tutorial, to avoid overfitting, we need to fit the encoder on data heldout from the training set. Run this cell to create the encoding and training splits:"
   ]
  },
  {
   "cell_type": "code",
   "execution_count": 5,
   "id": "1a7537a2",
   "metadata": {
    "execution": {
     "iopub.execute_input": "2023-06-30T18:38:15.072559Z",
     "iopub.status.busy": "2023-06-30T18:38:15.072157Z",
     "iopub.status.idle": "2023-06-30T18:38:15.088390Z",
     "shell.execute_reply": "2023-06-30T18:38:15.087219Z"
    },
    "lines_to_next_cell": 2,
    "papermill": {
     "duration": 0.028911,
     "end_time": "2023-06-30T18:38:15.091121",
     "exception": false,
     "start_time": "2023-06-30T18:38:15.062210",
     "status": "completed"
    },
    "tags": []
   },
   "outputs": [],
   "source": [
    "# Encoding split\n",
    "X_encode = df.sample(frac=0.20, random_state=0)\n",
    "y_encode = X_encode.pop(\"SalePrice\")\n",
    "\n",
    "# Training split\n",
    "X_pretrain = df.drop(X_encode.index)\n",
    "y_train = X_pretrain.pop(\"SalePrice\")"
   ]
  },
  {
   "cell_type": "markdown",
   "id": "88665174",
   "metadata": {
    "papermill": {
     "duration": 0.008324,
     "end_time": "2023-06-30T18:38:15.108389",
     "exception": false,
     "start_time": "2023-06-30T18:38:15.100065",
     "status": "completed"
    },
    "tags": []
   },
   "source": [
    "# 2) Apply M-Estimate Encoding\n",
    "\n",
    "Apply a target encoding to your choice of categorical features. Also choose a value for the smoothing parameter `m` (any value is okay for a correct answer)."
   ]
  },
  {
   "cell_type": "code",
   "execution_count": 6,
   "id": "f1ca9ac8",
   "metadata": {
    "execution": {
     "iopub.execute_input": "2023-06-30T18:38:15.127540Z",
     "iopub.status.busy": "2023-06-30T18:38:15.127142Z",
     "iopub.status.idle": "2023-06-30T18:38:15.248611Z",
     "shell.execute_reply": "2023-06-30T18:38:15.247483Z"
    },
    "lines_to_next_cell": 0,
    "papermill": {
     "duration": 0.134158,
     "end_time": "2023-06-30T18:38:15.251293",
     "exception": false,
     "start_time": "2023-06-30T18:38:15.117135",
     "status": "completed"
    },
    "tags": []
   },
   "outputs": [
    {
     "data": {
      "application/javascript": [
       "parent.postMessage({\"jupyterEvent\": \"custom.exercise_interaction\", \"data\": {\"outcomeType\": 1, \"valueTowardsCompletion\": 0.3333333333333333, \"interactionType\": 1, \"questionType\": 2, \"questionId\": \"2_Q2\", \"learnToolsVersion\": \"0.3.4\", \"failureMessage\": \"\", \"exceptionClass\": \"\", \"trace\": \"\"}}, \"*\")"
      ],
      "text/plain": [
       "<IPython.core.display.Javascript object>"
      ]
     },
     "metadata": {},
     "output_type": "display_data"
    },
    {
     "data": {
      "text/markdown": [
       "<span style=\"color:#33cc33\">Correct</span>"
      ],
      "text/plain": [
       "Correct"
      ]
     },
     "metadata": {},
     "output_type": "display_data"
    }
   ],
   "source": [
    "# YOUR CODE HERE: Create the MEstimateEncoder\n",
    "# Choose a set of features to encode and a value for m\n",
    "encoder = MEstimateEncoder(cols=['Neighborhood', 'SaleType'], m=5)\n",
    "\n",
    "\n",
    "# Fit the encoder on the encoding split\n",
    "encoder.fit(X_encode, y_encode)\n",
    "\n",
    "# Encode the training split\n",
    "X_train = encoder.transform(X_pretrain, y_train)\n",
    "\n",
    "\n",
    "# Check your answer\n",
    "q_2.check()"
   ]
  },
  {
   "cell_type": "code",
   "execution_count": 7,
   "id": "39c2d14f",
   "metadata": {
    "execution": {
     "iopub.execute_input": "2023-06-30T18:38:15.271690Z",
     "iopub.status.busy": "2023-06-30T18:38:15.271303Z",
     "iopub.status.idle": "2023-06-30T18:38:15.275996Z",
     "shell.execute_reply": "2023-06-30T18:38:15.274687Z"
    },
    "lines_to_next_cell": 0,
    "papermill": {
     "duration": 0.017778,
     "end_time": "2023-06-30T18:38:15.278384",
     "exception": false,
     "start_time": "2023-06-30T18:38:15.260606",
     "status": "completed"
    },
    "tags": []
   },
   "outputs": [],
   "source": [
    "# Lines below will give you a hint or solution code\n",
    "#q_2.hint()\n",
    "#q_2.solution()"
   ]
  },
  {
   "cell_type": "markdown",
   "id": "24001ead",
   "metadata": {
    "papermill": {
     "duration": 0.008888,
     "end_time": "2023-06-30T18:38:15.296435",
     "exception": false,
     "start_time": "2023-06-30T18:38:15.287547",
     "status": "completed"
    },
    "tags": []
   },
   "source": [
    "If you'd like to see how the encoded feature compares to the target, you can run this cell:"
   ]
  },
  {
   "cell_type": "code",
   "execution_count": 8,
   "id": "6895404f",
   "metadata": {
    "execution": {
     "iopub.execute_input": "2023-06-30T18:38:15.317092Z",
     "iopub.status.busy": "2023-06-30T18:38:15.316594Z",
     "iopub.status.idle": "2023-06-30T18:38:15.955068Z",
     "shell.execute_reply": "2023-06-30T18:38:15.953947Z"
    },
    "papermill": {
     "duration": 0.651627,
     "end_time": "2023-06-30T18:38:15.957790",
     "exception": false,
     "start_time": "2023-06-30T18:38:15.306163",
     "status": "completed"
    },
    "tags": []
   },
   "outputs": [
    {
     "data": {
      "image/png": "[encoded data removed]",
      "text/plain": [
       "<Figure size 576x432 with 1 Axes>"
      ]
     },
     "metadata": {},
     "output_type": "display_data"
    }
   ],
   "source": [
    "feature = encoder.cols\n",
    "\n",
    "plt.figure(dpi=90)\n",
    "ax = sns.distplot(y_train, kde=True, hist=False)\n",
    "ax = sns.distplot(X_train[feature], color='r', ax=ax, hist=True, kde=False, norm_hist=True)\n",
    "ax.set_xlabel(\"SalePrice\");"
   ]
  },
  {
   "cell_type": "markdown",
   "id": "5602226b",
   "metadata": {
    "papermill": {
     "duration": 0.009125,
     "end_time": "2023-06-30T18:38:15.976340",
     "exception": false,
     "start_time": "2023-06-30T18:38:15.967215",
     "status": "completed"
    },
    "tags": []
   },
   "source": [
    "From the distribution plots, does it seem like the encoding is informative?\n",
    "\n",
    "And this cell will show you the score of the encoded set compared to the original set:"
   ]
  },
  {
   "cell_type": "code",
   "execution_count": 9,
   "id": "694d7aef",
   "metadata": {
    "execution": {
     "iopub.execute_input": "2023-06-30T18:38:15.997425Z",
     "iopub.status.busy": "2023-06-30T18:38:15.997052Z",
     "iopub.status.idle": "2023-06-30T18:38:22.717423Z",
     "shell.execute_reply": "2023-06-30T18:38:22.716542Z"
    },
    "papermill": {
     "duration": 6.734082,
     "end_time": "2023-06-30T18:38:22.720304",
     "exception": false,
     "start_time": "2023-06-30T18:38:15.986222",
     "status": "completed"
    },
    "tags": []
   },
   "outputs": [
    {
     "name": "stdout",
     "output_type": "stream",
     "text": [
      "Baseline Score: 0.1428 RMSLE\n",
      "Score with Encoding: 0.1416 RMSLE\n"
     ]
    }
   ],
   "source": [
    "X = df.copy()\n",
    "y = X.pop(\"SalePrice\")\n",
    "score_base = score_dataset(X, y)\n",
    "score_new = score_dataset(X_train, y_train)\n",
    "\n",
    "print(f\"Baseline Score: {score_base:.4f} RMSLE\")\n",
    "print(f\"Score with Encoding: {score_new:.4f} RMSLE\")"
   ]
  },
  {
   "cell_type": "markdown",
   "id": "c6e6d1e1",
   "metadata": {
    "papermill": {
     "duration": 0.009336,
     "end_time": "2023-06-30T18:38:22.740279",
     "exception": false,
     "start_time": "2023-06-30T18:38:22.730943",
     "status": "completed"
    },
    "tags": []
   },
   "source": [
    "Do you think that target encoding was worthwhile in this case? Depending on which feature or features you chose, you may have ended up with a score significantly worse than the baseline. In that case, it's likely the extra information gained by the encoding couldn't make up for the loss of data used for the encoding."
   ]
  },
  {
   "cell_type": "markdown",
   "id": "deca1876",
   "metadata": {
    "papermill": {
     "duration": 0.009249,
     "end_time": "2023-06-30T18:38:22.759102",
     "exception": false,
     "start_time": "2023-06-30T18:38:22.749853",
     "status": "completed"
    },
    "tags": []
   },
   "source": [
    "-------------------------------------------------------------------------------\n",
    "\n",
    "In this question, you'll explore the problem of overfitting with target encodings. This will illustrate this importance of training fitting target encoders on data held-out from the training set.\n",
    "\n",
    "So let's see what happens when we fit the encoder and the model on the *same* dataset. To emphasize how dramatic the overfitting can be, we'll mean-encode a feature that should have no relationship with `SalePrice`, a count: `0, 1, 2, 3, 4, 5, ...`."
   ]
  },
  {
   "cell_type": "code",
   "execution_count": 10,
   "id": "4767b8ab",
   "metadata": {
    "execution": {
     "iopub.execute_input": "2023-06-30T18:38:22.780659Z",
     "iopub.status.busy": "2023-06-30T18:38:22.780243Z",
     "iopub.status.idle": "2023-06-30T18:38:26.407764Z",
     "shell.execute_reply": "2023-06-30T18:38:26.406844Z"
    },
    "papermill": {
     "duration": 3.641937,
     "end_time": "2023-06-30T18:38:26.410592",
     "exception": false,
     "start_time": "2023-06-30T18:38:22.768655",
     "status": "completed"
    },
    "tags": []
   },
   "outputs": [
    {
     "name": "stdout",
     "output_type": "stream",
     "text": [
      "Score: 0.0301 RMSLE\n"
     ]
    }
   ],
   "source": [
    "# Try experimenting with the smoothing parameter m\n",
    "# Try 0, 1, 5, 50\n",
    "m = 10\n",
    "\n",
    "X = df.copy()\n",
    "y = X.pop('SalePrice')\n",
    "\n",
    "# Create an uninformative feature\n",
    "X[\"Count\"] = range(len(X))\n",
    "X[\"Count\"][1] = 0  # actually need one duplicate value to circumvent error-checking in MEstimateEncoder\n",
    "\n",
    "# fit and transform on the same dataset\n",
    "encoder = MEstimateEncoder(cols=\"Count\", m=m)\n",
    "X = encoder.fit_transform(X, y)\n",
    "\n",
    "# Results\n",
    "score =  score_dataset(X, y)\n",
    "print(f\"Score: {score:.4f} RMSLE\")"
   ]
  },
  {
   "cell_type": "markdown",
   "id": "30959534",
   "metadata": {
    "papermill": {
     "duration": 0.009256,
     "end_time": "2023-06-30T18:38:26.430402",
     "exception": false,
     "start_time": "2023-06-30T18:38:26.421146",
     "status": "completed"
    },
    "tags": []
   },
   "source": [
    "Almost a perfect score!"
   ]
  },
  {
   "cell_type": "code",
   "execution_count": 11,
   "id": "bcdb97bc",
   "metadata": {
    "execution": {
     "iopub.execute_input": "2023-06-30T18:38:26.451285Z",
     "iopub.status.busy": "2023-06-30T18:38:26.450883Z",
     "iopub.status.idle": "2023-06-30T18:38:27.047378Z",
     "shell.execute_reply": "2023-06-30T18:38:27.046591Z"
    },
    "papermill": {
     "duration": 0.60969,
     "end_time": "2023-06-30T18:38:27.049669",
     "exception": false,
     "start_time": "2023-06-30T18:38:26.439979",
     "status": "completed"
    },
    "tags": []
   },
   "outputs": [
    {
     "data": {
      "image/png": "[encoded data removed]",
      "text/plain": [
       "<Figure size 576x432 with 1 Axes>"
      ]
     },
     "metadata": {},
     "output_type": "display_data"
    }
   ],
   "source": [
    "plt.figure(dpi=90)\n",
    "ax = sns.distplot(y, kde=True, hist=False)\n",
    "ax = sns.distplot(X[\"Count\"], color='r', ax=ax, hist=True, kde=False, norm_hist=True)\n",
    "ax.set_xlabel(\"SalePrice\");"
   ]
  },
  {
   "cell_type": "markdown",
   "id": "14e07ae9",
   "metadata": {
    "papermill": {
     "duration": 0.009664,
     "end_time": "2023-06-30T18:38:27.069394",
     "exception": false,
     "start_time": "2023-06-30T18:38:27.059730",
     "status": "completed"
    },
    "tags": []
   },
   "source": [
    "And the distributions are almost exactly the same, too.\n",
    "\n",
    "# 3) Overfitting with Target Encoders\n",
    "\n",
    "Based on your understanding of how mean-encoding works, can you explain how XGBoost was able to get an almost a perfect fit after mean-encoding the count feature?"
   ]
  },
  {
   "cell_type": "code",
   "execution_count": 12,
   "id": "54606589",
   "metadata": {
    "execution": {
     "iopub.execute_input": "2023-06-30T18:38:27.092123Z",
     "iopub.status.busy": "2023-06-30T18:38:27.091446Z",
     "iopub.status.idle": "2023-06-30T18:38:27.099044Z",
     "shell.execute_reply": "2023-06-30T18:38:27.098110Z"
    },
    "lines_to_next_cell": 0,
    "papermill": {
     "duration": 0.022587,
     "end_time": "2023-06-30T18:38:27.101979",
     "exception": false,
     "start_time": "2023-06-30T18:38:27.079392",
     "status": "completed"
    },
    "tags": []
   },
   "outputs": [
    {
     "data": {
      "application/javascript": [
       "parent.postMessage({\"jupyterEvent\": \"custom.exercise_interaction\", \"data\": {\"outcomeType\": 1, \"valueTowardsCompletion\": 0.3333333333333333, \"interactionType\": 1, \"questionType\": 4, \"questionId\": \"3_Q3\", \"learnToolsVersion\": \"0.3.4\", \"failureMessage\": \"\", \"exceptionClass\": \"\", \"trace\": \"\"}}, \"*\")"
      ],
      "text/plain": [
       "<IPython.core.display.Javascript object>"
      ]
     },
     "metadata": {},
     "output_type": "display_data"
    },
    {
     "data": {
      "text/markdown": [
       "<span style=\"color:#33cc33\">Correct:</span> \n",
       "\n",
       "\n",
       "Since `Count` never has any duplicate values, the mean-encoded `Count` is essentially an exact copy of the target. In other words, mean-encoding turned a completely meaningless feature into a perfect feature.\n",
       "\n",
       "Now, the only reason this worked is because we trained XGBoost on the same set we used to train the encoder. If we had used a hold-out set instead, none of this \"fake\" encoding would have transferred to the training data.\n",
       "\n",
       "The lesson is that when using a target encoder it's very important to use separate data sets for training the encoder and training the model. Otherwise the results can be very disappointing!\n"
      ],
      "text/plain": [
       "Correct: \n",
       "\n",
       "\n",
       "Since `Count` never has any duplicate values, the mean-encoded `Count` is essentially an exact copy of the target. In other words, mean-encoding turned a completely meaningless feature into a perfect feature.\n",
       "\n",
       "Now, the only reason this worked is because we trained XGBoost on the same set we used to train the encoder. If we had used a hold-out set instead, none of this \"fake\" encoding would have transferred to the training data.\n",
       "\n",
       "The lesson is that when using a target encoder it's very important to use separate data sets for training the encoder and training the model. Otherwise the results can be very disappointing!"
      ]
     },
     "metadata": {},
     "output_type": "display_data"
    }
   ],
   "source": [
    "# View the solution (Run this cell to receive credit!)\n",
    "q_3.check()"
   ]
  },
  {
   "cell_type": "code",
   "execution_count": 13,
   "id": "e8698147",
   "metadata": {
    "execution": {
     "iopub.execute_input": "2023-06-30T18:38:27.125502Z",
     "iopub.status.busy": "2023-06-30T18:38:27.125087Z",
     "iopub.status.idle": "2023-06-30T18:38:27.129769Z",
     "shell.execute_reply": "2023-06-30T18:38:27.128642Z"
    },
    "papermill": {
     "duration": 0.018611,
     "end_time": "2023-06-30T18:38:27.131999",
     "exception": false,
     "start_time": "2023-06-30T18:38:27.113388",
     "status": "completed"
    },
    "tags": []
   },
   "outputs": [],
   "source": [
    "# Uncomment this if you'd like a hint before seeing the answer\n",
    "#q_3.hint()"
   ]
  },
  {
   "cell_type": "markdown",
   "id": "d85662ab",
   "metadata": {
    "papermill": {
     "duration": 0.010008,
     "end_time": "2023-06-30T18:38:27.152579",
     "exception": false,
     "start_time": "2023-06-30T18:38:27.142571",
     "status": "completed"
    },
    "tags": []
   },
   "source": [
    "# The End #\n",
    "\n",
    "That's it for *Feature Engineering*! We hope you enjoyed your time with us.\n",
    "\n",
    "Now, are you ready to try out your new skills? Now would be a great time to join our [Housing Prices](https://www.kaggle.com/c/house-prices-advanced-regression-techniques) Getting Started competition. We've even prepared a [Bonus Lesson](https://www.kaggle.com/ryanholbrook/feature-engineering-for-house-prices) that collects all the work we've done together into a starter notebook.\n",
    "\n",
    "# References #\n",
    "Here are some great resources you might like to consult for more information. They all played a part in shaping this course:\n",
    "- *The Art of Feature Engineering*, a book by Pablo Duboue.\n",
    "- *An Empirical Analysis of Feature Engineering for Predictive Modeling*, an article by Jeff Heaton.\n",
    "- *Feature Engineering for Machine Learning*, a book by Alice Zheng and Amanda Casari. The tutorial on clustering was inspired by this excellent book.\n",
    "- *Feature Engineering and Selection*, a book by Max Kuhn and Kjell Johnson."
   ]
  },
  {
   "cell_type": "markdown",
   "id": "56fe8594",
   "metadata": {
    "papermill": {
     "duration": 0.010206,
     "end_time": "2023-06-30T18:38:27.173191",
     "exception": false,
     "start_time": "2023-06-30T18:38:27.162985",
     "status": "completed"
    },
    "tags": []
   },
   "source": [
    "---\n",
    "\n",
    "\n",
    "\n",
    "\n",
    "*Have questions or comments? Visit the [course discussion forum](https://www.kaggle.com/learn/feature-engineering/discussion) to chat with other learners.*"
   ]
  }
 ],
 "metadata": {
  "kernelspec": {
   "display_name": "Python 3",
   "language": "python",
   "name": "python3"
  },
  "language_info": {
   "codemirror_mode": {
    "name": "ipython",
    "version": 3
   },
   "file_extension": ".py",
   "mimetype": "text/x-python",
   "name": "python",
   "nbconvert_exporter": "python",
   "pygments_lexer": "ipython3",
   "version": "3.10.10"
  },
  "papermill": {
   "default_parameters": {},
   "duration": 29.037596,
   "end_time": "2023-06-30T18:38:28.308665",
   "environment_variables": {},
   "exception": null,
   "input_path": "__notebook__.ipynb",
   "output_path": "__notebook__.ipynb",
   "parameters": {},
   "start_time": "2023-06-30T18:37:59.271069",
   "version": "2.4.0"
  }
 },
 "nbformat": 4,
 "nbformat_minor": 5
}
